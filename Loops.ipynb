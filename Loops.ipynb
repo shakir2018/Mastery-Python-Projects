{
 "cells": [
  {
   "cell_type": "code",
   "execution_count": 1,
   "metadata": {},
   "outputs": [
    {
     "name": "stdout",
     "output_type": "stream",
     "text": [
      "2\n",
      "4\n",
      "6\n",
      "8\n",
      "10\n",
      "12\n",
      "14\n",
      "16\n",
      "18\n",
      "Done\n"
     ]
    }
   ],
   "source": [
    "n = 20\n",
    "i = 1\n",
    "while i<20:\n",
    "    if i%2 == 0:\n",
    "        print(i)\n",
    "    else:\n",
    "        pass\n",
    "    i+=1\n",
    "    continue\n",
    "print(\"Done\")\n",
    "    "
   ]
  },
  {
   "cell_type": "code",
   "execution_count": 2,
   "metadata": {},
   "outputs": [
    {
     "name": "stdout",
     "output_type": "stream",
     "text": [
      "1\n",
      "2\n",
      "3\n",
      "4\n",
      "5\n",
      "6\n",
      "7\n",
      "8\n",
      "9\n",
      "10\n"
     ]
    }
   ],
   "source": [
    "L = []\n",
    "for i in range(10):\n",
    "    print(i+1)\n",
    "    L.append(i**2)"
   ]
  },
  {
   "cell_type": "code",
   "execution_count": 3,
   "metadata": {},
   "outputs": [
    {
     "ename": "KeyboardInterrupt",
     "evalue": "Interrupted by user",
     "output_type": "error",
     "traceback": [
      "\u001b[1;31m---------------------------------------------------------------------------\u001b[0m",
      "\u001b[1;31mKeyboardInterrupt\u001b[0m                         Traceback (most recent call last)",
      "\u001b[1;32m<ipython-input-3-fe55c316d5d9>\u001b[0m in \u001b[0;36m<module>\u001b[1;34m\u001b[0m\n\u001b[1;32m----> 1\u001b[1;33m \u001b[0mn\u001b[0m \u001b[1;33m=\u001b[0m \u001b[0mint\u001b[0m\u001b[1;33m(\u001b[0m\u001b[0minput\u001b[0m\u001b[1;33m(\u001b[0m\u001b[1;34m\"maximu iterations:\"\u001b[0m\u001b[1;33m)\u001b[0m\u001b[1;33m)\u001b[0m\u001b[1;33m\u001b[0m\u001b[1;33m\u001b[0m\u001b[0m\n\u001b[0m\u001b[0;32m      2\u001b[0m \u001b[0mi\u001b[0m \u001b[1;33m=\u001b[0m \u001b[1;36m1\u001b[0m\u001b[1;33m\u001b[0m\u001b[1;33m\u001b[0m\u001b[0m\n\u001b[0;32m      3\u001b[0m \u001b[1;32mwhile\u001b[0m \u001b[0mi\u001b[0m\u001b[1;33m<\u001b[0m\u001b[0mn\u001b[0m\u001b[1;33m:\u001b[0m\u001b[1;33m\u001b[0m\u001b[1;33m\u001b[0m\u001b[0m\n\u001b[0;32m      4\u001b[0m     \u001b[1;32mif\u001b[0m \u001b[0mi\u001b[0m\u001b[1;33m%\u001b[0m\u001b[1;36m2\u001b[0m \u001b[1;33m==\u001b[0m \u001b[1;36m0\u001b[0m\u001b[1;33m:\u001b[0m\u001b[1;33m\u001b[0m\u001b[1;33m\u001b[0m\u001b[0m\n\u001b[0;32m      5\u001b[0m         \u001b[0mprint\u001b[0m\u001b[1;33m(\u001b[0m\u001b[0mi\u001b[0m\u001b[1;33m)\u001b[0m\u001b[1;33m\u001b[0m\u001b[1;33m\u001b[0m\u001b[0m\n",
      "\u001b[1;32m~\\Anaconda3\\lib\\site-packages\\ipykernel\\kernelbase.py\u001b[0m in \u001b[0;36mraw_input\u001b[1;34m(self, prompt)\u001b[0m\n\u001b[0;32m    861\u001b[0m             \u001b[0mself\u001b[0m\u001b[1;33m.\u001b[0m\u001b[0m_parent_ident\u001b[0m\u001b[1;33m,\u001b[0m\u001b[1;33m\u001b[0m\u001b[1;33m\u001b[0m\u001b[0m\n\u001b[0;32m    862\u001b[0m             \u001b[0mself\u001b[0m\u001b[1;33m.\u001b[0m\u001b[0m_parent_header\u001b[0m\u001b[1;33m,\u001b[0m\u001b[1;33m\u001b[0m\u001b[1;33m\u001b[0m\u001b[0m\n\u001b[1;32m--> 863\u001b[1;33m             \u001b[0mpassword\u001b[0m\u001b[1;33m=\u001b[0m\u001b[1;32mFalse\u001b[0m\u001b[1;33m,\u001b[0m\u001b[1;33m\u001b[0m\u001b[1;33m\u001b[0m\u001b[0m\n\u001b[0m\u001b[0;32m    864\u001b[0m         )\n\u001b[0;32m    865\u001b[0m \u001b[1;33m\u001b[0m\u001b[0m\n",
      "\u001b[1;32m~\\Anaconda3\\lib\\site-packages\\ipykernel\\kernelbase.py\u001b[0m in \u001b[0;36m_input_request\u001b[1;34m(self, prompt, ident, parent, password)\u001b[0m\n\u001b[0;32m    902\u001b[0m             \u001b[1;32mexcept\u001b[0m \u001b[0mKeyboardInterrupt\u001b[0m\u001b[1;33m:\u001b[0m\u001b[1;33m\u001b[0m\u001b[1;33m\u001b[0m\u001b[0m\n\u001b[0;32m    903\u001b[0m                 \u001b[1;31m# re-raise KeyboardInterrupt, to truncate traceback\u001b[0m\u001b[1;33m\u001b[0m\u001b[1;33m\u001b[0m\u001b[1;33m\u001b[0m\u001b[0m\n\u001b[1;32m--> 904\u001b[1;33m                 \u001b[1;32mraise\u001b[0m \u001b[0mKeyboardInterrupt\u001b[0m\u001b[1;33m(\u001b[0m\u001b[1;34m\"Interrupted by user\"\u001b[0m\u001b[1;33m)\u001b[0m \u001b[1;32mfrom\u001b[0m \u001b[1;32mNone\u001b[0m\u001b[1;33m\u001b[0m\u001b[1;33m\u001b[0m\u001b[0m\n\u001b[0m\u001b[0;32m    905\u001b[0m             \u001b[1;32mexcept\u001b[0m \u001b[0mException\u001b[0m \u001b[1;32mas\u001b[0m \u001b[0me\u001b[0m\u001b[1;33m:\u001b[0m\u001b[1;33m\u001b[0m\u001b[1;33m\u001b[0m\u001b[0m\n\u001b[0;32m    906\u001b[0m                 \u001b[0mself\u001b[0m\u001b[1;33m.\u001b[0m\u001b[0mlog\u001b[0m\u001b[1;33m.\u001b[0m\u001b[0mwarning\u001b[0m\u001b[1;33m(\u001b[0m\u001b[1;34m\"Invalid Message:\"\u001b[0m\u001b[1;33m,\u001b[0m \u001b[0mexc_info\u001b[0m\u001b[1;33m=\u001b[0m\u001b[1;32mTrue\u001b[0m\u001b[1;33m)\u001b[0m\u001b[1;33m\u001b[0m\u001b[1;33m\u001b[0m\u001b[0m\n",
      "\u001b[1;31mKeyboardInterrupt\u001b[0m: Interrupted by user"
     ]
    }
   ],
   "source": [
    "n = int(input(\"maximu iterations:\"))\n",
    "i = 1\n",
    "while i<n:\n",
    "    if i%2 == 0:\n",
    "        print(i)\n",
    "    else:\n",
    "        i+=1\n",
    "        continue\n",
    "    print(\"I am inside the If loop\")\n",
    "print(\"Done\")"
   ]
  },
  {
   "cell_type": "markdown",
   "metadata": {},
   "source": []
  },
  {
   "cell_type": "code",
   "execution_count": null,
   "metadata": {},
   "outputs": [],
   "source": [
    "6+5"
   ]
  },
  {
   "cell_type": "code",
   "execution_count": null,
   "metadata": {},
   "outputs": [],
   "source": [
    "\"\"\"\"\n",
    "A python program that sort the List [1,2,4,15,7,9,3,2] and produce another sorted list\n",
    "\n",
    "\"\"\"\"\n",
    "\n",
    "L = [1,2,4,15,7,9,3,2]\n",
    "\n",
    "for j i range (len(L)):\n",
    "    m = L[j]\n",
    "    idx = j\n",
    "    c = j\n",
    "    for i in range (j,len(L)):\n",
    "        if L[i]<m:\n",
    "            m = L[i]\n",
    "            idx = c\n",
    "        c+=1\n",
    "    tmp = L[j]\n",
    "    L[j] = m\n",
    "    L[idx] = tmp\n",
    "print[L]"
   ]
  },
  {
   "cell_type": "code",
   "execution_count": null,
   "metadata": {},
   "outputs": [],
   "source": [
    "def add(*args):\n",
    "    sum = 0\n",
    "    for i in range (len(args)):\n",
    "        sum+= args[i]\n",
    "        return sum"
   ]
  },
  {
   "cell_type": "code",
   "execution_count": null,
   "metadata": {},
   "outputs": [],
   "source": [
    "add(2,3,4,5)"
   ]
  },
  {
   "cell_type": "code",
   "execution_count": null,
   "metadata": {},
   "outputs": [],
   "source": [
    "add(3,4,5,6,7)"
   ]
  },
  {
   "cell_type": "markdown",
   "metadata": {},
   "source": [
    "# Data Structures"
   ]
  },
  {
   "cell_type": "code",
   "execution_count": null,
   "metadata": {},
   "outputs": [],
   "source": [
    "D1 = {\"85>\": \"A grade\", \"85<70\": \"B grade\", \"<75\": \"Below Average\"}\n",
    "D2 = {\"Name1\": \"Ade\", \"Name2\": \"Shola\", \"Name3\": \"Bola\"}"
   ]
  },
  {
   "cell_type": "code",
   "execution_count": null,
   "metadata": {},
   "outputs": [],
   "source": [
    "D1.update(D2)"
   ]
  },
  {
   "cell_type": "code",
   "execution_count": null,
   "metadata": {},
   "outputs": [],
   "source": [
    "D1"
   ]
  },
  {
   "cell_type": "code",
   "execution_count": null,
   "metadata": {},
   "outputs": [],
   "source": [
    "L"
   ]
  },
  {
   "cell_type": "markdown",
   "metadata": {},
   "source": [
    "# Computing student Average Marks"
   ]
  },
  {
   "cell_type": "code",
   "execution_count": 11,
   "metadata": {},
   "outputs": [],
   "source": [
    "def getDatafromUser():\n",
    "    D = {}\n",
    "    while True:\n",
    "        studentId = input(\"Enter Student ID: \")\n",
    "        markslist = input(\"Enter Students Mark: \")\n",
    "        moreStudents = input('Enter \"no\" to quit insertion: ')\n",
    "        if studentId in D:\n",
    "            print(\"studentId, is already inserted\")\n",
    "        else:\n",
    "            D[studentId] = markslist.split(\",\")\n",
    "    if moreStudents.lower() == \"no\":\n",
    "        return D"
   ]
  },
  {
   "cell_type": "code",
   "execution_count": 13,
   "metadata": {},
   "outputs": [
    {
     "ename": "KeyboardInterrupt",
     "evalue": "Interrupted by user",
     "output_type": "error",
     "traceback": [
      "\u001b[1;31m---------------------------------------------------------------------------\u001b[0m",
      "\u001b[1;31mKeyboardInterrupt\u001b[0m                         Traceback (most recent call last)",
      "\u001b[1;32m<ipython-input-13-19cf2669f6c8>\u001b[0m in \u001b[0;36m<module>\u001b[1;34m\u001b[0m\n\u001b[1;32m----> 1\u001b[1;33m \u001b[0mStudentData\u001b[0m \u001b[1;33m=\u001b[0m \u001b[0mgetDatafromUser\u001b[0m\u001b[1;33m(\u001b[0m\u001b[1;33m)\u001b[0m\u001b[1;33m\u001b[0m\u001b[1;33m\u001b[0m\u001b[0m\n\u001b[0m",
      "\u001b[1;32m<ipython-input-11-ea222e2f9764>\u001b[0m in \u001b[0;36mgetDatafromUser\u001b[1;34m()\u001b[0m\n\u001b[0;32m      2\u001b[0m     \u001b[0mD\u001b[0m \u001b[1;33m=\u001b[0m \u001b[1;33m{\u001b[0m\u001b[1;33m}\u001b[0m\u001b[1;33m\u001b[0m\u001b[1;33m\u001b[0m\u001b[0m\n\u001b[0;32m      3\u001b[0m     \u001b[1;32mwhile\u001b[0m \u001b[1;32mTrue\u001b[0m\u001b[1;33m:\u001b[0m\u001b[1;33m\u001b[0m\u001b[1;33m\u001b[0m\u001b[0m\n\u001b[1;32m----> 4\u001b[1;33m         \u001b[0mstudentId\u001b[0m \u001b[1;33m=\u001b[0m \u001b[0minput\u001b[0m\u001b[1;33m(\u001b[0m\u001b[1;34m\"Enter Student ID: \"\u001b[0m\u001b[1;33m)\u001b[0m\u001b[1;33m\u001b[0m\u001b[1;33m\u001b[0m\u001b[0m\n\u001b[0m\u001b[0;32m      5\u001b[0m         \u001b[0mmarkslist\u001b[0m \u001b[1;33m=\u001b[0m \u001b[0minput\u001b[0m\u001b[1;33m(\u001b[0m\u001b[1;34m\"Enter Students Mark: \"\u001b[0m\u001b[1;33m)\u001b[0m\u001b[1;33m\u001b[0m\u001b[1;33m\u001b[0m\u001b[0m\n\u001b[0;32m      6\u001b[0m         \u001b[0mmoreStudents\u001b[0m \u001b[1;33m=\u001b[0m \u001b[0minput\u001b[0m\u001b[1;33m(\u001b[0m\u001b[1;34m'Enter \"no\" to quit insertion: '\u001b[0m\u001b[1;33m)\u001b[0m\u001b[1;33m\u001b[0m\u001b[1;33m\u001b[0m\u001b[0m\n",
      "\u001b[1;32m~\\Anaconda3\\lib\\site-packages\\ipykernel\\kernelbase.py\u001b[0m in \u001b[0;36mraw_input\u001b[1;34m(self, prompt)\u001b[0m\n\u001b[0;32m    861\u001b[0m             \u001b[0mself\u001b[0m\u001b[1;33m.\u001b[0m\u001b[0m_parent_ident\u001b[0m\u001b[1;33m,\u001b[0m\u001b[1;33m\u001b[0m\u001b[1;33m\u001b[0m\u001b[0m\n\u001b[0;32m    862\u001b[0m             \u001b[0mself\u001b[0m\u001b[1;33m.\u001b[0m\u001b[0m_parent_header\u001b[0m\u001b[1;33m,\u001b[0m\u001b[1;33m\u001b[0m\u001b[1;33m\u001b[0m\u001b[0m\n\u001b[1;32m--> 863\u001b[1;33m             \u001b[0mpassword\u001b[0m\u001b[1;33m=\u001b[0m\u001b[1;32mFalse\u001b[0m\u001b[1;33m,\u001b[0m\u001b[1;33m\u001b[0m\u001b[1;33m\u001b[0m\u001b[0m\n\u001b[0m\u001b[0;32m    864\u001b[0m         )\n\u001b[0;32m    865\u001b[0m \u001b[1;33m\u001b[0m\u001b[0m\n",
      "\u001b[1;32m~\\Anaconda3\\lib\\site-packages\\ipykernel\\kernelbase.py\u001b[0m in \u001b[0;36m_input_request\u001b[1;34m(self, prompt, ident, parent, password)\u001b[0m\n\u001b[0;32m    902\u001b[0m             \u001b[1;32mexcept\u001b[0m \u001b[0mKeyboardInterrupt\u001b[0m\u001b[1;33m:\u001b[0m\u001b[1;33m\u001b[0m\u001b[1;33m\u001b[0m\u001b[0m\n\u001b[0;32m    903\u001b[0m                 \u001b[1;31m# re-raise KeyboardInterrupt, to truncate traceback\u001b[0m\u001b[1;33m\u001b[0m\u001b[1;33m\u001b[0m\u001b[1;33m\u001b[0m\u001b[0m\n\u001b[1;32m--> 904\u001b[1;33m                 \u001b[1;32mraise\u001b[0m \u001b[0mKeyboardInterrupt\u001b[0m\u001b[1;33m(\u001b[0m\u001b[1;34m\"Interrupted by user\"\u001b[0m\u001b[1;33m)\u001b[0m \u001b[1;32mfrom\u001b[0m \u001b[1;32mNone\u001b[0m\u001b[1;33m\u001b[0m\u001b[1;33m\u001b[0m\u001b[0m\n\u001b[0m\u001b[0;32m    905\u001b[0m             \u001b[1;32mexcept\u001b[0m \u001b[0mException\u001b[0m \u001b[1;32mas\u001b[0m \u001b[0me\u001b[0m\u001b[1;33m:\u001b[0m\u001b[1;33m\u001b[0m\u001b[1;33m\u001b[0m\u001b[0m\n\u001b[0;32m    906\u001b[0m                 \u001b[0mself\u001b[0m\u001b[1;33m.\u001b[0m\u001b[0mlog\u001b[0m\u001b[1;33m.\u001b[0m\u001b[0mwarning\u001b[0m\u001b[1;33m(\u001b[0m\u001b[1;34m\"Invalid Message:\"\u001b[0m\u001b[1;33m,\u001b[0m \u001b[0mexc_info\u001b[0m\u001b[1;33m=\u001b[0m\u001b[1;32mTrue\u001b[0m\u001b[1;33m)\u001b[0m\u001b[1;33m\u001b[0m\u001b[1;33m\u001b[0m\u001b[0m\n",
      "\u001b[1;31mKeyboardInterrupt\u001b[0m: Interrupted by user"
     ]
    }
   ],
   "source": [
    "StudentData = getDatafromUser()"
   ]
  },
  {
   "cell_type": "code",
   "execution_count": 15,
   "metadata": {},
   "outputs": [],
   "source": [
    "import numpy as np\n",
    "A = np.arange(100)\n"
   ]
  },
  {
   "cell_type": "code",
   "execution_count": 16,
   "metadata": {},
   "outputs": [
    {
     "data": {
      "text/plain": [
       "array([ 0,  1,  2,  3,  4,  5,  6,  7,  8,  9, 10, 11, 12, 13, 14, 15, 16,\n",
       "       17, 18, 19, 20, 21, 22, 23, 24, 25, 26, 27, 28, 29, 30, 31, 32, 33,\n",
       "       34, 35, 36, 37, 38, 39, 40, 41, 42, 43, 44, 45, 46, 47, 48, 49, 50,\n",
       "       51, 52, 53, 54, 55, 56, 57, 58, 59, 60, 61, 62, 63, 64, 65, 66, 67,\n",
       "       68, 69, 70, 71, 72, 73, 74, 75, 76, 77, 78, 79, 80, 81, 82, 83, 84,\n",
       "       85, 86, 87, 88, 89, 90, 91, 92, 93, 94, 95, 96, 97, 98, 99])"
      ]
     },
     "execution_count": 16,
     "metadata": {},
     "output_type": "execute_result"
    }
   ],
   "source": [
    "A"
   ]
  },
  {
   "cell_type": "code",
   "execution_count": 19,
   "metadata": {},
   "outputs": [],
   "source": [
    "B = np.arange(10,110,10) # for i in range(10,110,10)"
   ]
  },
  {
   "cell_type": "code",
   "execution_count": 20,
   "metadata": {},
   "outputs": [
    {
     "name": "stdout",
     "output_type": "stream",
     "text": [
      "[ 10  20  30  40  50  60  70  80  90 100]\n"
     ]
    }
   ],
   "source": [
    "print(B)"
   ]
  },
  {
   "cell_type": "code",
   "execution_count": 22,
   "metadata": {},
   "outputs": [
    {
     "data": {
      "text/plain": [
       "[0, 1, 2, 3, 4, 5, 6, 7, 8, 9]"
      ]
     },
     "execution_count": 22,
     "metadata": {},
     "output_type": "execute_result"
    }
   ],
   "source": [
    "list(range(10))"
   ]
  },
  {
   "cell_type": "code",
   "execution_count": 26,
   "metadata": {},
   "outputs": [
    {
     "name": "stdout",
     "output_type": "stream",
     "text": [
      "[23 31  7 20 16 39 82 67 52 49  9 22 76 42 74 36  3 83 88 38 79 37 28 10\n",
      " 30 78 15 98 91 71 60 55 12 61 45 21 25 13 57 54 18 48 69 34 89 19 93 97\n",
      " 27 73 32 51 11 66 84 80 35  2 75  5 40 53 87 65 72  4 24 41 47 70 50 94\n",
      " 95 14 62 68 90 29 64 17 58 33  8 44 99 77 26 85 63 59  0 46 86 43 56 96\n",
      "  6 92  1 81]\n"
     ]
    }
   ],
   "source": [
    "print(np.random.permutation(np.arange(100)))"
   ]
  },
  {
   "cell_type": "code",
   "execution_count": 33,
   "metadata": {},
   "outputs": [],
   "source": [
    "c = np.random.rand(100)"
   ]
  },
  {
   "cell_type": "code",
   "execution_count": 30,
   "metadata": {},
   "outputs": [
    {
     "data": {
      "text/plain": [
       "int"
      ]
     },
     "execution_count": 30,
     "metadata": {},
     "output_type": "execute_result"
    }
   ],
   "source": [
    "type(c)"
   ]
  },
  {
   "cell_type": "code",
   "execution_count": 34,
   "metadata": {},
   "outputs": [
    {
     "name": "stdout",
     "output_type": "stream",
     "text": [
      "[0.92710936 0.04305789 0.09306577 0.66200584 0.82748121 0.6598098\n",
      " 0.29199865 0.4719386  0.0634263  0.14698724 0.67678361 0.16873805\n",
      " 0.8540503  0.59416008 0.03641272 0.0636416  0.3955829  0.53848082\n",
      " 0.32540515 0.09888283 0.60646099 0.41870377 0.62231321 0.0963308\n",
      " 0.3555663  0.36060528 0.19639129 0.00880011 0.36989374 0.36541366\n",
      " 0.30401555 0.16858442 0.42580343 0.91532605 0.65179486 0.58967571\n",
      " 0.25448686 0.35923031 0.98339817 0.29734576 0.79747785 0.97011289\n",
      " 0.21870547 0.56867761 0.48958205 0.1527757  0.51390926 0.56816029\n",
      " 0.00867513 0.77236082 0.20446866 0.90466576 0.07738172 0.67924568\n",
      " 0.37514912 0.66035742 0.1507409  0.66304459 0.56602927 0.48025082\n",
      " 0.58608133 0.50811843 0.97150952 0.49813436 0.77674551 0.66246531\n",
      " 0.43177185 0.32536931 0.93720368 0.12157798 0.87368898 0.46294231\n",
      " 0.84951273 0.16921    0.62449716 0.417351   0.09481348 0.90261579\n",
      " 0.1746708  0.20174367 0.16170171 0.12579375 0.41674103 0.27941955\n",
      " 0.58780975 0.23357833 0.15604018 0.10691815 0.24356884 0.28681769\n",
      " 0.87042316 0.45094445 0.04021979 0.31836134 0.88816014 0.03753141\n",
      " 0.38559991 0.63257897 0.07179923 0.02047138]\n"
     ]
    }
   ],
   "source": [
    "print(c)"
   ]
  },
  {
   "cell_type": "code",
   "execution_count": 35,
   "metadata": {},
   "outputs": [],
   "source": [
    "import matplotlib.pyplot as plt"
   ]
  },
  {
   "cell_type": "code",
   "execution_count": 37,
   "metadata": {},
   "outputs": [
    {
     "data": {
      "text/plain": [
       "(array([2., 1., 2., 2., 0., 2., 1., 1., 3., 1., 1., 1., 1., 0., 3., 2., 3.,\n",
       "        1., 0., 2., 1., 1., 0., 1., 1., 1., 0., 1., 1., 2., 1., 1., 2., 0.,\n",
       "        0., 2., 2., 2., 1., 1., 0., 2., 2., 1., 0., 1., 1., 1., 1., 1., 1.,\n",
       "        2., 0., 0., 1., 0., 0., 3., 0., 3., 1., 1., 1., 1., 1., 1., 2., 3.,\n",
       "        2., 0., 0., 0., 0., 0., 0., 0., 0., 0., 2., 0., 1., 0., 0., 0., 1.,\n",
       "        0., 2., 0., 2., 0., 1., 2., 0., 1., 1., 1., 0., 0., 2., 1.]),\n",
       " array([0.00867513, 0.01842236, 0.02816959, 0.03791682, 0.04766405,\n",
       "        0.05741128, 0.06715851, 0.07690574, 0.08665297, 0.0964002 ,\n",
       "        0.10614743, 0.11589466, 0.12564189, 0.13538912, 0.14513635,\n",
       "        0.15488358, 0.16463081, 0.17437804, 0.18412527, 0.1938725 ,\n",
       "        0.20361973, 0.21336696, 0.22311419, 0.23286143, 0.24260866,\n",
       "        0.25235589, 0.26210312, 0.27185035, 0.28159758, 0.29134481,\n",
       "        0.30109204, 0.31083927, 0.3205865 , 0.33033373, 0.34008096,\n",
       "        0.34982819, 0.35957542, 0.36932265, 0.37906988, 0.38881711,\n",
       "        0.39856434, 0.40831157, 0.4180588 , 0.42780603, 0.43755326,\n",
       "        0.44730049, 0.45704772, 0.46679496, 0.47654219, 0.48628942,\n",
       "        0.49603665, 0.50578388, 0.51553111, 0.52527834, 0.53502557,\n",
       "        0.5447728 , 0.55452003, 0.56426726, 0.57401449, 0.58376172,\n",
       "        0.59350895, 0.60325618, 0.61300341, 0.62275064, 0.63249787,\n",
       "        0.6422451 , 0.65199233, 0.66173956, 0.67148679, 0.68123402,\n",
       "        0.69098125, 0.70072849, 0.71047572, 0.72022295, 0.72997018,\n",
       "        0.73971741, 0.74946464, 0.75921187, 0.7689591 , 0.77870633,\n",
       "        0.78845356, 0.79820079, 0.80794802, 0.81769525, 0.82744248,\n",
       "        0.83718971, 0.84693694, 0.85668417, 0.8664314 , 0.87617863,\n",
       "        0.88592586, 0.89567309, 0.90542032, 0.91516755, 0.92491478,\n",
       "        0.93466201, 0.94440925, 0.95415648, 0.96390371, 0.97365094,\n",
       "        0.98339817]),\n",
       " <a list of 100 Patch objects>)"
      ]
     },
     "execution_count": 37,
     "metadata": {},
     "output_type": "execute_result"
    },
    {
     "data": {
      "image/png": "[encoded data removed]",
      "text/plain": [
       "<Figure size 432x288 with 1 Axes>"
      ]
     },
     "metadata": {
      "needs_background": "light"
     },
     "output_type": "display_data"
    }
   ],
   "source": [
    "plt.hist(c, bins = 100)"
   ]
  },
  {
   "cell_type": "code",
   "execution_count": 38,
   "metadata": {},
   "outputs": [
    {
     "data": {
      "text/plain": [
       "(array([2.000e+00, 0.000e+00, 0.000e+00, 2.000e+00, 2.000e+00, 0.000e+00,\n",
       "        1.000e+00, 0.000e+00, 2.000e+00, 0.000e+00, 2.000e+00, 3.000e+00,\n",
       "        1.000e+00, 1.000e+00, 0.000e+00, 2.000e+00, 1.000e+00, 4.000e+00,\n",
       "        4.000e+00, 4.000e+00, 7.000e+00, 9.000e+00, 6.000e+00, 3.000e+00,\n",
       "        1.100e+01, 2.000e+01, 1.200e+01, 1.400e+01, 1.500e+01, 2.000e+01,\n",
       "        1.800e+01, 3.100e+01, 3.100e+01, 3.500e+01, 2.900e+01, 4.000e+01,\n",
       "        5.200e+01, 3.200e+01, 4.200e+01, 6.000e+01, 6.200e+01, 5.700e+01,\n",
       "        8.400e+01, 9.400e+01, 1.040e+02, 9.300e+01, 1.110e+02, 1.260e+02,\n",
       "        1.670e+02, 1.510e+02, 1.620e+02, 1.790e+02, 2.120e+02, 1.960e+02,\n",
       "        2.470e+02, 2.580e+02, 2.660e+02, 3.000e+02, 3.260e+02, 3.170e+02,\n",
       "        3.500e+02, 3.770e+02, 4.340e+02, 4.390e+02, 5.000e+02, 5.310e+02,\n",
       "        5.360e+02, 5.660e+02, 5.560e+02, 6.030e+02, 6.670e+02, 7.330e+02,\n",
       "        7.950e+02, 7.380e+02, 8.250e+02, 8.910e+02, 9.340e+02, 9.370e+02,\n",
       "        9.710e+02, 9.740e+02, 1.046e+03, 1.071e+03, 1.157e+03, 1.209e+03,\n",
       "        1.175e+03, 1.300e+03, 1.288e+03, 1.329e+03, 1.342e+03, 1.390e+03,\n",
       "        1.409e+03, 1.461e+03, 1.444e+03, 1.489e+03, 1.516e+03, 1.542e+03,\n",
       "        1.581e+03, 1.549e+03, 1.548e+03, 1.619e+03, 1.595e+03, 1.626e+03,\n",
       "        1.628e+03, 1.611e+03, 1.605e+03, 1.629e+03, 1.653e+03, 1.538e+03,\n",
       "        1.537e+03, 1.576e+03, 1.537e+03, 1.526e+03, 1.443e+03, 1.486e+03,\n",
       "        1.455e+03, 1.473e+03, 1.324e+03, 1.404e+03, 1.269e+03, 1.284e+03,\n",
       "        1.236e+03, 1.239e+03, 1.203e+03, 1.178e+03, 1.109e+03, 1.152e+03,\n",
       "        1.139e+03, 9.720e+02, 8.920e+02, 9.310e+02, 9.100e+02, 8.390e+02,\n",
       "        7.740e+02, 7.560e+02, 7.250e+02, 6.890e+02, 6.760e+02, 6.180e+02,\n",
       "        5.920e+02, 5.560e+02, 5.070e+02, 4.460e+02, 4.600e+02, 4.820e+02,\n",
       "        3.830e+02, 3.540e+02, 3.250e+02, 3.170e+02, 3.070e+02, 2.910e+02,\n",
       "        2.500e+02, 2.460e+02, 2.260e+02, 2.120e+02, 1.860e+02, 1.510e+02,\n",
       "        1.320e+02, 1.450e+02, 1.670e+02, 1.250e+02, 1.110e+02, 9.400e+01,\n",
       "        8.800e+01, 8.800e+01, 6.900e+01, 8.800e+01, 5.600e+01, 6.000e+01,\n",
       "        5.000e+01, 3.400e+01, 3.900e+01, 3.700e+01, 3.500e+01, 3.000e+01,\n",
       "        1.700e+01, 1.600e+01, 1.200e+01, 1.900e+01, 1.400e+01, 1.200e+01,\n",
       "        1.300e+01, 4.000e+00, 7.000e+00, 1.700e+01, 5.000e+00, 6.000e+00,\n",
       "        4.000e+00, 1.000e+00, 8.000e+00, 7.000e+00, 1.000e+00, 2.000e+00,\n",
       "        2.000e+00, 0.000e+00, 1.000e+00, 1.000e+00, 2.000e+00, 0.000e+00,\n",
       "        0.000e+00, 1.000e+00]),\n",
       " array([-4.18196757, -4.1414269 , -4.10088622, -4.06034554, -4.01980487,\n",
       "        -3.97926419, -3.93872352, -3.89818284, -3.85764216, -3.81710149,\n",
       "        -3.77656081, -3.73602013, -3.69547946, -3.65493878, -3.61439811,\n",
       "        -3.57385743, -3.53331675, -3.49277608, -3.4522354 , -3.41169473,\n",
       "        -3.37115405, -3.33061337, -3.2900727 , -3.24953202, -3.20899134,\n",
       "        -3.16845067, -3.12790999, -3.08736932, -3.04682864, -3.00628796,\n",
       "        -2.96574729, -2.92520661, -2.88466594, -2.84412526, -2.80358458,\n",
       "        -2.76304391, -2.72250323, -2.68196255, -2.64142188, -2.6008812 ,\n",
       "        -2.56034053, -2.51979985, -2.47925917, -2.4387185 , -2.39817782,\n",
       "        -2.35763715, -2.31709647, -2.27655579, -2.23601512, -2.19547444,\n",
       "        -2.15493376, -2.11439309, -2.07385241, -2.03331174, -1.99277106,\n",
       "        -1.95223038, -1.91168971, -1.87114903, -1.83060836, -1.79006768,\n",
       "        -1.749527  , -1.70898633, -1.66844565, -1.62790497, -1.5873643 ,\n",
       "        -1.54682362, -1.50628295, -1.46574227, -1.42520159, -1.38466092,\n",
       "        -1.34412024, -1.30357957, -1.26303889, -1.22249821, -1.18195754,\n",
       "        -1.14141686, -1.10087619, -1.06033551, -1.01979483, -0.97925416,\n",
       "        -0.93871348, -0.8981728 , -0.85763213, -0.81709145, -0.77655078,\n",
       "        -0.7360101 , -0.69546942, -0.65492875, -0.61438807, -0.5738474 ,\n",
       "        -0.53330672, -0.49276604, -0.45222537, -0.41168469, -0.37114401,\n",
       "        -0.33060334, -0.29006266, -0.24952199, -0.20898131, -0.16844063,\n",
       "        -0.12789996, -0.08735928, -0.04681861, -0.00627793,  0.03426275,\n",
       "         0.07480342,  0.1153441 ,  0.15588478,  0.19642545,  0.23696613,\n",
       "         0.2775068 ,  0.31804748,  0.35858816,  0.39912883,  0.43966951,\n",
       "         0.48021018,  0.52075086,  0.56129154,  0.60183221,  0.64237289,\n",
       "         0.68291357,  0.72345424,  0.76399492,  0.80453559,  0.84507627,\n",
       "         0.88561695,  0.92615762,  0.9666983 ,  1.00723897,  1.04777965,\n",
       "         1.08832033,  1.128861  ,  1.16940168,  1.20994236,  1.25048303,\n",
       "         1.29102371,  1.33156438,  1.37210506,  1.41264574,  1.45318641,\n",
       "         1.49372709,  1.53426776,  1.57480844,  1.61534912,  1.65588979,\n",
       "         1.69643047,  1.73697115,  1.77751182,  1.8180525 ,  1.85859317,\n",
       "         1.89913385,  1.93967453,  1.9802152 ,  2.02075588,  2.06129655,\n",
       "         2.10183723,  2.14237791,  2.18291858,  2.22345926,  2.26399993,\n",
       "         2.30454061,  2.34508129,  2.38562196,  2.42616264,  2.46670332,\n",
       "         2.50724399,  2.54778467,  2.58832534,  2.62886602,  2.6694067 ,\n",
       "         2.70994737,  2.75048805,  2.79102872,  2.8315694 ,  2.87211008,\n",
       "         2.91265075,  2.95319143,  2.99373211,  3.03427278,  3.07481346,\n",
       "         3.11535413,  3.15589481,  3.19643549,  3.23697616,  3.27751684,\n",
       "         3.31805751,  3.35859819,  3.39913887,  3.43967954,  3.48022022,\n",
       "         3.5207609 ,  3.56130157,  3.60184225,  3.64238292,  3.6829236 ,\n",
       "         3.72346428,  3.76400495,  3.80454563,  3.8450863 ,  3.88562698,\n",
       "         3.92616766]),\n",
       " <a list of 200 Patch objects>)"
      ]
     },
     "execution_count": 38,
     "metadata": {},
     "output_type": "execute_result"
    },
    {
     "data": {
      "image/png": "[encoded data removed]",
      "text/plain": [
       "<Figure size 432x288 with 1 Axes>"
      ]
     },
     "metadata": {
      "needs_background": "light"
     },
     "output_type": "display_data"
    }
   ],
   "source": [
    "x = np.random.randn(100000)\n",
    "plt.hist(x, bins = 200)"
   ]
  },
  {
   "cell_type": "code",
   "execution_count": 39,
   "metadata": {},
   "outputs": [],
   "source": [
    "c = np.random.rand(2,3)"
   ]
  },
  {
   "cell_type": "code",
   "execution_count": 40,
   "metadata": {},
   "outputs": [
    {
     "data": {
      "text/plain": [
       "array([[0.52636254, 0.80155415, 0.22331808],\n",
       "       [0.37899012, 0.7788453 , 0.94831279]])"
      ]
     },
     "execution_count": 40,
     "metadata": {},
     "output_type": "execute_result"
    }
   ],
   "source": [
    "c"
   ]
  },
  {
   "cell_type": "code",
   "execution_count": 41,
   "metadata": {},
   "outputs": [],
   "source": [
    "x = np.random.rand(2,3,4,2)"
   ]
  },
  {
   "cell_type": "code",
   "execution_count": 42,
   "metadata": {},
   "outputs": [
    {
     "data": {
      "text/plain": [
       "array([[[[0.71584445, 0.19687831],\n",
       "         [0.28866102, 0.98897541],\n",
       "         [0.77304497, 0.46372159],\n",
       "         [0.87839454, 0.63869345]],\n",
       "\n",
       "        [[0.10520755, 0.49012987],\n",
       "         [0.04881805, 0.62538843],\n",
       "         [0.0345063 , 0.00301851],\n",
       "         [0.03905164, 0.60786667]],\n",
       "\n",
       "        [[0.38469292, 0.33117921],\n",
       "         [0.62178349, 0.5703184 ],\n",
       "         [0.25063724, 0.52753045],\n",
       "         [0.68377116, 0.2908037 ]]],\n",
       "\n",
       "\n",
       "       [[[0.48855734, 0.88929294],\n",
       "         [0.20294518, 0.10568675],\n",
       "         [0.50833766, 0.97107291],\n",
       "         [0.02116952, 0.25027027]],\n",
       "\n",
       "        [[0.8357178 , 0.44011521],\n",
       "         [0.09178224, 0.33762358],\n",
       "         [0.21218615, 0.08248662],\n",
       "         [0.17259777, 0.5722252 ]],\n",
       "\n",
       "        [[0.09621493, 0.41522746],\n",
       "         [0.05361777, 0.47018867],\n",
       "         [0.30804331, 0.10891771],\n",
       "         [0.6287361 , 0.0236919 ]]]])"
      ]
     },
     "execution_count": 42,
     "metadata": {},
     "output_type": "execute_result"
    }
   ],
   "source": [
    "x"
   ]
  },
  {
   "cell_type": "code",
   "execution_count": 43,
   "metadata": {},
   "outputs": [
    {
     "data": {
      "text/plain": [
       "4"
      ]
     },
     "execution_count": 43,
     "metadata": {},
     "output_type": "execute_result"
    }
   ],
   "source": [
    "x.ndim"
   ]
  },
  {
   "cell_type": "code",
   "execution_count": 44,
   "metadata": {},
   "outputs": [
    {
     "data": {
      "text/plain": [
       "2"
      ]
     },
     "execution_count": 44,
     "metadata": {},
     "output_type": "execute_result"
    }
   ],
   "source": [
    "c.ndim"
   ]
  },
  {
   "cell_type": "markdown",
   "metadata": {},
   "source": [
    "# Kite Pattern in Python"
   ]
  },
  {
   "cell_type": "code",
   "execution_count": 45,
   "metadata": {},
   "outputs": [
    {
     "name": "stdout",
     "output_type": "stream",
     "text": [
      "s\n",
      "sss\n",
      "sssss\n",
      "sssssss\n",
      "sssssssss\n",
      "sssssss\n",
      "sssss\n",
      "sss\n",
      "s\n",
      "sss\n",
      "sssss\n"
     ]
    }
   ],
   "source": [
    "if __name__ == '__main__':\n",
    "    space = 4\n",
    "    prt = 's'\n",
    "    for i in range (1,6):\n",
    "        for sp in range (space, 0,-1):\n",
    "            print(end = \"\")\n",
    "        for j in range (1,i+1):\n",
    "            print(prt, end =\"\")\n",
    "        for k in range (1,i):\n",
    "            if (i == 1):\n",
    "                continue\n",
    "            print(prt, end =\"\")\n",
    "        print()\n",
    "        space = 1\n",
    "    for i in range(4,0,-1):\n",
    "        for sp in range(space,0,-1):\n",
    "            print(end=\"\")\n",
    "        for j in range (1,i+1):\n",
    "            print(prt, end=\"\")\n",
    "        for k in range (1, i):\n",
    "            print(prt, end=\"\")\n",
    "        space +=1\n",
    "        print()\n",
    "    space = 3\n",
    "    for i in range(2,6):\n",
    "        if ((i%2) !=0):\n",
    "            for sp in range(space, 0, -1):\n",
    "                print(\"\", end=\"\")\n",
    "            for j in range(1, i+1):\n",
    "                print(prt, end=\"\")\n",
    "        if ((i%2) !=0):\n",
    "            print()\n",
    "            space-=1"
   ]
  },
  {
   "cell_type": "code",
   "execution_count": 46,
   "metadata": {},
   "outputs": [
    {
     "data": {
      "text/plain": [
       "False"
      ]
     },
     "execution_count": 46,
     "metadata": {},
     "output_type": "execute_result"
    }
   ],
   "source": [
    "4<4"
   ]
  },
  {
   "cell_type": "code",
   "execution_count": null,
   "metadata": {},
   "outputs": [],
   "source": []
  }
 ],
 "metadata": {
  "kernelspec": {
   "display_name": "Python 3",
   "language": "python",
   "name": "python3"
  },
  "language_info": {
   "codemirror_mode": {
    "name": "ipython",
    "version": 3
   },
   "file_extension": ".py",
   "mimetype": "text/x-python",
   "name": "python",
   "nbconvert_exporter": "python",
   "pygments_lexer": "ipython3",
   "version": "3.7.3"
  }
 },
 "nbformat": 4,
 "nbformat_minor": 4
}
